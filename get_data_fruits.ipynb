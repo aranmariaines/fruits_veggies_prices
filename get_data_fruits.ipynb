{
 "cells": [
  {
   "cell_type": "markdown",
   "metadata": {},
   "source": [
    "## Libraries"
   ]
  },
  {
   "cell_type": "code",
   "execution_count": 1,
   "metadata": {
    "collapsed": true
   },
   "outputs": [],
   "source": [
    "import pandas as pd\n",
    "import requests, zipfile, io\n",
    "from pathlib import Path\n",
    "import shutil\n",
    "import xlwt\n",
    "import xlrd\n",
    "import xlsxwriter\n",
    "import datetime"
   ]
  },
  {
   "cell_type": "markdown",
   "metadata": {},
   "source": [
    "## Data Extraction"
   ]
  },
  {
   "cell_type": "markdown",
   "metadata": {},
   "source": [
    "Download all the data from http://www.mercadocentral.gob.ar/sites/default/files/precios_mayoristas/PM-Frutas-2019_0.zip \n",
    "and unzip files to data/raw folder"
   ]
  },
  {
   "cell_type": "code",
   "execution_count": 2,
   "metadata": {
    "collapsed": true
   },
   "outputs": [],
   "source": [
    "# Download data from Mercado Central\n",
    "zip_file_url = 'http://www.mercadocentral.gob.ar/sites/default/files/precios_mayoristas/PM-Frutas-2019_0.zip' \n",
    "path_to_extract_to = 'data/zip'\n",
    "r = requests.get(zip_file_url)\n",
    "z = zipfile.ZipFile(io.BytesIO(r.content))\n",
    "z.extractall(path_to_extract_to)"
   ]
  },
  {
   "cell_type": "code",
   "execution_count": 3,
   "metadata": {
    "collapsed": true
   },
   "outputs": [],
   "source": [
    "# Unzip all files\n",
    "paths = Path(Path.cwd().joinpath('data','zip')).glob('*.zip')\n",
    "for path in paths:\n",
    "    with zipfile.ZipFile(path, 'r') as zip_ref:\n",
    "        zip_ref.extractall('data/raw')\n",
    "        \n",
    "# Delete unused files\n",
    "shutil.rmtree('data/zip')"
   ]
  },
  {
   "cell_type": "markdown",
   "metadata": {},
   "source": [
    "## From XLS to Pandas"
   ]
  },
  {
   "cell_type": "code",
   "execution_count": 19,
   "metadata": {
    "collapsed": true
   },
   "outputs": [],
   "source": [
    "# Function that takes a month in spanish and transform to month number\n",
    "def mesANumero(string):\n",
    "    m = {\n",
    "        'ene': \"01\",\n",
    "        'feb': \"02\",\n",
    "        'marzo': \"03\",\n",
    "        'abril': \"04\",\n",
    "        'mayo': \"05\",\n",
    "        'junio': \"06\",\n",
    "        'julio': \"07\",\n",
    "        'agosto': \"08\",\n",
    "        'sep': \"09\",\n",
    "        'oct': \"10\",\n",
    "        'nov': \"11\",\n",
    "        'dic': \"12\"\n",
    "        }\n",
    "\n",
    "    fecha = string.split(\"-\")\n",
    "    dia =  fecha[0]\n",
    "    mes =  fecha[1]\n",
    "    anio = fecha[2]\n",
    "    out = str(m[mes.lower()])\n",
    "    return (dia + \"-\" + out + \"-\" + anio)"
   ]
  },
  {
   "cell_type": "code",
   "execution_count": 36,
   "metadata": {
    "collapsed": true
   },
   "outputs": [],
   "source": [
    "def generate_dataframe(datafile):\n",
    "    global df\n",
    "    # Read XLS with awful encoding\n",
    "    workbook = xlrd.open_workbook(datafile, encoding_override='cp1252')\n",
    "    sheet = workbook.sheet_by_index(0)\n",
    "\n",
    "    # rows as lists\n",
    "    esp_row = [sheet.cell_value(row, 0) for row in range(1,sheet.nrows)]\n",
    "    mapk_row = [sheet.cell_value(row, 11) for row in range(1,sheet.nrows)]\n",
    "    mipk_row = [sheet.cell_value(row, 13) for row in range(1,sheet.nrows)]\n",
    "\n",
    "    # Create Dataframe\n",
    "    df = pd.DataFrame(list(zip(esp_row,mapk_row,mipk_row)), columns = ['item','max_price_per_kg','min_price_per_kg'])\n",
    "\n",
    "    # Data transformation\n",
    "    df['average_kg_price'] = df.mean(axis=1)\n",
    "    df = df[df.average_kg_price > 0] # Delete items with price = 0\n",
    "    df = df.groupby('item', as_index = False).mean()\n",
    "    \n",
    "    # Read file path and get filename\n",
    "    #path = Path(Path.cwd().joinpath('data','raw',file.stem))\n",
    "    filename = file.stem\n",
    "\n",
    "    # Identify date\n",
    "    day = filename[10:12]\n",
    "    month = filename[13:filename.find('-2019',13)]\n",
    "    year = filename[-4:]\n",
    "\n",
    "    # Create dates and add to dataframe\n",
    "    base = mesANumero(day +'-'+ month + '-' + year)\n",
    "    date_list = [base for x in range(len(df))]\n",
    "    df['date'] = date_list\n",
    "\n",
    "    # Reareange columns\n",
    "    df = df[['date', 'item', 'average_kg_price']]\n",
    "    \n",
    "    return (df.size)"
   ]
  },
  {
   "cell_type": "code",
   "execution_count": 37,
   "metadata": {
    "scrolled": false
   },
   "outputs": [
    {
     "name": "stdout",
     "output_type": "stream",
     "text": [
      "File that crashed = .DS_Store\n"
     ]
    }
   ],
   "source": [
    "folder = Path(Path.cwd().joinpath('data','raw')).glob('**/*')\n",
    "dataset = pd.DataFrame()\n",
    "\n",
    "for file in folder:\n",
    "    try:\n",
    "        generate_dataframe(file)\n",
    "        dataset = dataset.append(df)\n",
    "    except:\n",
    "        print(f'File that crashed = {file.stem}')"
   ]
  },
  {
   "cell_type": "code",
   "execution_count": 38,
   "metadata": {
    "collapsed": true
   },
   "outputs": [],
   "source": [
    "filename = Path(Path.cwd().joinpath('data','dataset.csv'))\n",
    "\n",
    "dataset.to_csv(filename,index = False)"
   ]
  }
 ],
 "metadata": {
  "kernelspec": {
   "display_name": "Python 3",
   "language": "python",
   "name": "python3"
  },
  "language_info": {
   "codemirror_mode": {
    "name": "ipython",
    "version": 3
   },
   "file_extension": ".py",
   "mimetype": "text/x-python",
   "name": "python",
   "nbconvert_exporter": "python",
   "pygments_lexer": "ipython3",
   "version": "3.6.9"
  }
 },
 "nbformat": 4,
 "nbformat_minor": 2
}
